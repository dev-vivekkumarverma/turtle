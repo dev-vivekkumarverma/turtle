{
 "cells": [
  {
   "cell_type": "code",
   "execution_count": 1,
   "metadata": {},
   "outputs": [],
   "source": [
    "import turtle\n"
   ]
  },
  {
   "cell_type": "code",
   "execution_count": 2,
   "metadata": {},
   "outputs": [],
   "source": [
    "turt=turtle.Turtle(\"circle\")\n",
    "turt.speed(100)\n",
    "turt.color(\"white\",\"yellow\")\n",
    "screen=turtle.Screen()\n",
    "screen.screensize(1800,1000)\n",
    "screen.bgcolor(\"black\")"
   ]
  },
  {
   "cell_type": "markdown",
   "metadata": {},
   "source": [
    "### registering a polygon with the turtle"
   ]
  },
  {
   "cell_type": "code",
   "execution_count": 3,
   "metadata": {},
   "outputs": [],
   "source": [
    "def register_polygon(name:str):\n",
    "    def register_polygon_handler(shape_function):\n",
    "        def polygon_registration(*args,**kwargs):\n",
    "            try:\n",
    "                turtle.begin_poly()\n",
    "                shape_function(*args, **kwargs)\n",
    "                turtle.end_poly()\n",
    "                poly_shape=turtle.get_poly()\n",
    "                turtle.register_shape(name=name, shape=poly_shape)\n",
    "                return True\n",
    "            except Exception as e:\n",
    "                print(f\"ERROR::{str(e)}\")\n",
    "                return False\n",
    "        return polygon_registration\n",
    "    return register_polygon_handler\n",
    "\n"
   ]
  },
  {
   "cell_type": "code",
   "execution_count": 4,
   "metadata": {},
   "outputs": [],
   "source": [
    "# @register_polygon(name=\"poly\")\n",
    "def draw_poly(turt:turtle, number_of_sides:int =3, side_len:float=1.0):\n",
    "    ext_angle=360/number_of_sides\n",
    "    for i in range(number_of_sides):\n",
    "        turt.left(ext_angle)\n",
    "        turt.forward(side_len)\n",
    "\n",
    "\n"
   ]
  },
  {
   "cell_type": "code",
   "execution_count": 5,
   "metadata": {},
   "outputs": [],
   "source": [
    "# draw_poly(turt=turt, number_of_sides=3, side_len=100)"
   ]
  },
  {
   "cell_type": "code",
   "execution_count": 6,
   "metadata": {},
   "outputs": [],
   "source": [
    "# turt.penup()\n",
    "# turt.goto(0,-250)\n",
    "# turt.pendown()\n",
    "# draw_poly(turt=turt, number_of_sides=6, side_len=100)"
   ]
  },
  {
   "cell_type": "code",
   "execution_count": 7,
   "metadata": {},
   "outputs": [],
   "source": [
    "import random"
   ]
  },
  {
   "cell_type": "code",
   "execution_count": 8,
   "metadata": {},
   "outputs": [],
   "source": [
    "for i in range(500):\n",
    "    x,y= random.randint(-900,900),random.randint(-500,500)\n",
    "    turt.penup()\n",
    "    turt.goto(x,y)\n",
    "    turt.pendown()\n",
    "    fill_color=random.choice([\"yellow\",\"white\",\"pink\",\"white\",\"orange\",\"white\",\"yellow\",\"white\",\"blue\",\"white\",\"cyan\",\"white\",\"purple\"])\n",
    "    line_color=random.choice([\"yellow\",\"white\",\"pink\",\"white\",\"orange\",\"white\",\"yellow\",\"white\",\"blue\",\"white\",\"cyan\",\"white\",\"purple\"])\n",
    "\n",
    "    turt.color(line_color, fill_color)\n",
    "    turt.begin_fill()\n",
    "    side_len=random.randint(1,3)\n",
    "    angle_size=145\n",
    "    for j in range(5):\n",
    "       \n",
    "        turt.forward(side_len)\n",
    "        turt.right(angle_size)\n",
    "    turt.end_fill()\n",
    "\n",
    "\n"
   ]
  },
  {
   "cell_type": "code",
   "execution_count": 9,
   "metadata": {},
   "outputs": [],
   "source": [
    "turtle.done()"
   ]
  }
 ],
 "metadata": {
  "kernelspec": {
   "display_name": "Python 3",
   "language": "python",
   "name": "python3"
  },
  "language_info": {
   "codemirror_mode": {
    "name": "ipython",
    "version": 3
   },
   "file_extension": ".py",
   "mimetype": "text/x-python",
   "name": "python",
   "nbconvert_exporter": "python",
   "pygments_lexer": "ipython3",
   "version": "3.11.9"
  }
 },
 "nbformat": 4,
 "nbformat_minor": 2
}
